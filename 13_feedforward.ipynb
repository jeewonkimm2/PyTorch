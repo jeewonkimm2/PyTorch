{
 "cells": [
  {
   "cell_type": "code",
   "execution_count": 17,
   "metadata": {},
   "outputs": [],
   "source": [
    "import torch\n",
    "import torch.nn as nn\n",
    "import torchvision\n",
    "import torchvision.transforms as transforms\n",
    "import matplotlib.pyplot as plt"
   ]
  },
  {
   "cell_type": "code",
   "execution_count": 18,
   "metadata": {},
   "outputs": [],
   "source": [
    "device = torch.device('cuda' if torch.cuda.is_available() else 'cpu')"
   ]
  },
  {
   "cell_type": "code",
   "execution_count": 19,
   "metadata": {},
   "outputs": [],
   "source": [
    "# Hyperparameters\n",
    "input_size = 784 # 28*28\n",
    "hidden_size = 500\n",
    "num_classes = 10\n",
    "num_epochs = 2\n",
    "batch_size = 100\n",
    "learning_rate = 0.001"
   ]
  },
  {
   "cell_type": "code",
   "execution_count": 20,
   "metadata": {},
   "outputs": [],
   "source": [
    "train_dataset = torchvision.datasets.MNIST(root='/home/iai/Desktop/Jeewon/Study/PyTorch/data',\n",
    "                                              train = True,\n",
    "                                              transform = transforms.ToTensor(),\n",
    "                                              download=True\n",
    "                                              )\n",
    "\n",
    "test_dataset = torchvision.datasets.MNIST(root='/home/iai/Desktop/Jeewon/Study/PyTorch/data',\n",
    "                                              train = False,\n",
    "                                              transform = transforms.ToTensor())"
   ]
  },
  {
   "cell_type": "code",
   "execution_count": 21,
   "metadata": {},
   "outputs": [],
   "source": [
    "# Data Loader\n",
    "\n",
    "train_loader = torch.utils.data.DataLoader(dataset = train_dataset,\n",
    "                                           batch_size = batch_size,\n",
    "                                           shuffle = True)\n",
    "\n",
    "\n",
    "test_loader = torch.utils.data.DataLoader(dataset = test_dataset,\n",
    "                                          batch_size = batch_size,\n",
    "                                          shuffle = False)"
   ]
  },
  {
   "cell_type": "code",
   "execution_count": 22,
   "metadata": {},
   "outputs": [],
   "source": [
    "examples = iter(test_loader)\n",
    "example_data, example_targets = next(examples)"
   ]
  },
  {
   "cell_type": "code",
   "execution_count": 23,
   "metadata": {},
   "outputs": [
    {
     "data": {
      "image/png": "[encoded data removed]",
      "text/plain": [
       "<Figure size 640x480 with 6 Axes>"
      ]
     },
     "metadata": {},
     "output_type": "display_data"
    }
   ],
   "source": [
    "for i in range(6):\n",
    "    plt.subplot(2,3,i+1)\n",
    "    plt.imshow(example_data[i][0], cmap='gray')\n",
    "    \n",
    "plt.show()"
   ]
  },
  {
   "cell_type": "code",
   "execution_count": 24,
   "metadata": {},
   "outputs": [],
   "source": [
    "class NeuralNet(nn.Module):\n",
    "    def __init__(self, input_size, hidden_size, num_classes):\n",
    "        super(NeuralNet, self).__init__()\n",
    "        self.input_size = input_size\n",
    "        self.l1 = nn.Linear(input_size, hidden_size)\n",
    "        self.relu = nn.ReLU()\n",
    "        self.l2 = nn.Linear(hidden_size, num_classes)\n",
    "        \n",
    "    def forward(self, x):\n",
    "        out = self.l1(x)\n",
    "        out = self.relu(out)\n",
    "        out = self.l2(out)\n",
    "        # no activation and no softmax at the end\n",
    "        return out\n",
    "   \n",
    "model = NeuralNet(input_size, hidden_size, num_classes).to(device)\n",
    "# Loss and Optimizer\n",
    "criterion = nn.CrossEntropyLoss()\n",
    "optimizer = torch.optim.Adam(model.parameters(), lr = learning_rate)"
   ]
  },
  {
   "cell_type": "code",
   "execution_count": 12,
   "metadata": {},
   "outputs": [
    {
     "name": "stdout",
     "output_type": "stream",
     "text": [
      "Epoch [1/2], Step [100/600], Loss: 0.3537\n",
      "Epoch [1/2], Step [200/600], Loss: 0.2823\n",
      "Epoch [1/2], Step [300/600], Loss: 0.1997\n",
      "Epoch [1/2], Step [400/600], Loss: 0.1919\n",
      "Epoch [1/2], Step [500/600], Loss: 0.1661\n",
      "Epoch [1/2], Step [600/600], Loss: 0.1222\n",
      "Epoch [2/2], Step [100/600], Loss: 0.1616\n",
      "Epoch [2/2], Step [200/600], Loss: 0.0778\n",
      "Epoch [2/2], Step [300/600], Loss: 0.0518\n",
      "Epoch [2/2], Step [400/600], Loss: 0.0981\n",
      "Epoch [2/2], Step [500/600], Loss: 0.1292\n",
      "Epoch [2/2], Step [600/600], Loss: 0.1220\n"
     ]
    }
   ],
   "source": [
    "# Train the model(epoch = 2)\n",
    "n_total_steps = len(train_loader)\n",
    "\n",
    "for epoch in range(num_epochs):\n",
    "    for i, (images, labels) in enumerate(train_loader):\n",
    "        # origin shape: [100, 1, 28, 28]\n",
    "        # resized: [100, 784]\n",
    "        images = images.reshape(-1, 28*28).to(device)\n",
    "        labels = labels.to(device)\n",
    "        \n",
    "        # Forward Pass\n",
    "        outputs = model(images)\n",
    "        loss = criterion(outputs, labels)\n",
    "        \n",
    "        # Backward and Optimize\n",
    "        optimizer.zero_grad()\n",
    "        loss.backward()\n",
    "        optimizer.step()\n",
    "        \n",
    "        if (i+1) % 100 == 0:\n",
    "            print (f'Epoch [{epoch+1}/{num_epochs}], Step [{i+1}/{n_total_steps}], Loss: {loss.item():.4f}')"
   ]
  },
  {
   "cell_type": "code",
   "execution_count": 25,
   "metadata": {},
   "outputs": [
    {
     "name": "stdout",
     "output_type": "stream",
     "text": [
      "Epoch [1/10], Step [100/600], Loss: 0.6148\n",
      "Epoch [1/10], Step [200/600], Loss: 0.5192\n",
      "Epoch [1/10], Step [300/600], Loss: 0.2694\n",
      "Epoch [1/10], Step [400/600], Loss: 0.2110\n",
      "Epoch [1/10], Step [500/600], Loss: 0.0593\n",
      "Epoch [1/10], Step [600/600], Loss: 0.1881\n",
      "Epoch [2/10], Step [100/600], Loss: 0.1205\n",
      "Epoch [2/10], Step [200/600], Loss: 0.0538\n",
      "Epoch [2/10], Step [300/600], Loss: 0.1140\n",
      "Epoch [2/10], Step [400/600], Loss: 0.0780\n",
      "Epoch [2/10], Step [500/600], Loss: 0.1591\n",
      "Epoch [2/10], Step [600/600], Loss: 0.1184\n",
      "Epoch [3/10], Step [100/600], Loss: 0.1217\n",
      "Epoch [3/10], Step [200/600], Loss: 0.0302\n",
      "Epoch [3/10], Step [300/600], Loss: 0.0665\n",
      "Epoch [3/10], Step [400/600], Loss: 0.0207\n",
      "Epoch [3/10], Step [500/600], Loss: 0.0500\n",
      "Epoch [3/10], Step [600/600], Loss: 0.0909\n",
      "Epoch [4/10], Step [100/600], Loss: 0.0698\n",
      "Epoch [4/10], Step [200/600], Loss: 0.0454\n",
      "Epoch [4/10], Step [300/600], Loss: 0.0656\n",
      "Epoch [4/10], Step [400/600], Loss: 0.0486\n",
      "Epoch [4/10], Step [500/600], Loss: 0.1690\n",
      "Epoch [4/10], Step [600/600], Loss: 0.0312\n",
      "Epoch [5/10], Step [100/600], Loss: 0.0657\n",
      "Epoch [5/10], Step [200/600], Loss: 0.0506\n",
      "Epoch [5/10], Step [300/600], Loss: 0.0539\n",
      "Epoch [5/10], Step [400/600], Loss: 0.0689\n",
      "Epoch [5/10], Step [500/600], Loss: 0.0749\n",
      "Epoch [5/10], Step [600/600], Loss: 0.0263\n",
      "Epoch [6/10], Step [100/600], Loss: 0.0246\n",
      "Epoch [6/10], Step [200/600], Loss: 0.0391\n",
      "Epoch [6/10], Step [300/600], Loss: 0.0261\n",
      "Epoch [6/10], Step [400/600], Loss: 0.0237\n",
      "Epoch [6/10], Step [500/600], Loss: 0.0343\n",
      "Epoch [6/10], Step [600/600], Loss: 0.0218\n",
      "Epoch [7/10], Step [100/600], Loss: 0.0160\n",
      "Epoch [7/10], Step [200/600], Loss: 0.0072\n",
      "Epoch [7/10], Step [300/600], Loss: 0.0181\n",
      "Epoch [7/10], Step [400/600], Loss: 0.0568\n",
      "Epoch [7/10], Step [500/600], Loss: 0.0547\n",
      "Epoch [7/10], Step [600/600], Loss: 0.0426\n",
      "Epoch [8/10], Step [100/600], Loss: 0.0730\n",
      "Epoch [8/10], Step [200/600], Loss: 0.0166\n",
      "Epoch [8/10], Step [300/600], Loss: 0.0109\n",
      "Epoch [8/10], Step [400/600], Loss: 0.0119\n",
      "Epoch [8/10], Step [500/600], Loss: 0.0720\n",
      "Epoch [8/10], Step [600/600], Loss: 0.0124\n",
      "Epoch [9/10], Step [100/600], Loss: 0.0076\n",
      "Epoch [9/10], Step [200/600], Loss: 0.0031\n",
      "Epoch [9/10], Step [300/600], Loss: 0.0079\n",
      "Epoch [9/10], Step [400/600], Loss: 0.0397\n",
      "Epoch [9/10], Step [500/600], Loss: 0.0139\n",
      "Epoch [9/10], Step [600/600], Loss: 0.0205\n",
      "Epoch [10/10], Step [100/600], Loss: 0.0119\n",
      "Epoch [10/10], Step [200/600], Loss: 0.0054\n",
      "Epoch [10/10], Step [300/600], Loss: 0.0034\n",
      "Epoch [10/10], Step [400/600], Loss: 0.0105\n",
      "Epoch [10/10], Step [500/600], Loss: 0.0053\n",
      "Epoch [10/10], Step [600/600], Loss: 0.0035\n"
     ]
    }
   ],
   "source": [
    "# Train the model(epoch = 10)\n",
    "n_total_steps = len(train_loader)\n",
    "\n",
    "for epoch in range(10):\n",
    "    for i, (images, labels) in enumerate(train_loader):\n",
    "        # origin shape: [100, 1, 28, 28]\n",
    "        # resized: [100, 784]\n",
    "        images = images.reshape(-1, 28*28).to(device)\n",
    "        labels = labels.to(device)\n",
    "        \n",
    "        # Forward Pass\n",
    "        outputs = model(images)\n",
    "        loss = criterion(outputs, labels)\n",
    "        \n",
    "        # Backward and Optimize\n",
    "        optimizer.zero_grad()\n",
    "        loss.backward()\n",
    "        optimizer.step()\n",
    "        \n",
    "        if (i+1) % 100 == 0:\n",
    "            print (f'Epoch [{epoch+1}/10], Step [{i+1}/{n_total_steps}], Loss: {loss.item():.4f}')"
   ]
  },
  {
   "cell_type": "code",
   "execution_count": 26,
   "metadata": {},
   "outputs": [
    {
     "name": "stdout",
     "output_type": "stream",
     "text": [
      "Accuracy of the network on the 10000 test images: 98.04 %\n"
     ]
    }
   ],
   "source": [
    "# Test the model\n",
    "# No need to compute gradients!\n",
    "\n",
    "with torch.no_grad():\n",
    "    n_correct = 0\n",
    "    n_samples = 0\n",
    "    for images, labels in test_loader:\n",
    "        images = images.reshape(-1, 28*28).to(device)\n",
    "        labels = labels.to(device)\n",
    "        outputs = model(images)\n",
    "        \n",
    "        _,predicted = torch.max(outputs.data, 1)\n",
    "        n_samples += labels.size(0)\n",
    "        n_correct += (predicted == labels).sum().item()\n",
    "        \n",
    "    acc = 100.0 * n_correct / n_samples\n",
    "    print(f'Accuracy of the network on the 10000 test images: {acc} %')\n"
   ]
  }
 ],
 "metadata": {
  "kernelspec": {
   "display_name": "jwanaconda",
   "language": "python",
   "name": "python3"
  },
  "language_info": {
   "codemirror_mode": {
    "name": "ipython",
    "version": 3
   },
   "file_extension": ".py",
   "mimetype": "text/x-python",
   "name": "python",
   "nbconvert_exporter": "python",
   "pygments_lexer": "ipython3",
   "version": "3.8.13"
  },
  "orig_nbformat": 4,
  "vscode": {
   "interpreter": {
    "hash": "91b1005dccb15e22d240b273f9fc181733100900e693183dab09dcac13af140a"
   }
  }
 },
 "nbformat": 4,
 "nbformat_minor": 2
}
